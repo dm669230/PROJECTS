{
 "cells": [
  {
   "cell_type": "code",
   "execution_count": 16,
   "metadata": {},
   "outputs": [
    {
     "name": "stdout",
     "output_type": "stream",
     "text": [
      "1200 1800 12 8 150 50 250 150 138 1100\n",
      "[3528, 3528, 3528, 3528, 3528, 3528, 3528, 3528]\n"
     ]
    },
    {
     "data": {
      "text/plain": [
       "7"
      ]
     },
     "execution_count": 16,
     "metadata": {},
     "output_type": "execute_result"
    }
   ],
   "source": [
    "class cal:\n",
    "    def __init__(self) :\n",
    "        pass\n",
    "    def no_of_bar(self,d,sp):\n",
    "        bar=((d/sp)+1)\n",
    "        return int(bar)\n",
    "\n",
    "    def value_a_and_b(self,d1,clc,dia_main):\n",
    "        a=(d1-2*(clear_cover)-dia_main)\n",
    "        return int(a)\n",
    "\n",
    "\n",
    "    def bend_deduction(self,n,D):\n",
    "        bend_d=(n*D)\n",
    "        return (bend_d)\n",
    "\n",
    "    def cutting_length_ft(self,a,b,L,D):\n",
    "        cl=(a+b+L-D)\n",
    "        return (cl)\n",
    "\n",
    "\n",
    "q=cal()\n",
    "lenth_of_side_A=int(input(\"please input side A length (L) in mm: \"))\n",
    "lenth_of_side_B=int(input(\"please input side B length (L) in mm: \"))\n",
    "\n",
    "dia_of_main_bar=int(input(\"input dia of main bar in mm: \"))\n",
    "dia_of_sec_bar=input(\"input dia of secondary bar in mm: \")\n",
    "\n",
    "spacing=int(input(\"input spacing between bar in mm\"))\n",
    "clear_cover=int(input(\"input footing clear cover in mm: \"))\n",
    "d1=int(input(\"input d1 from working drawing in mm: \"))\n",
    "\n",
    "n=int(input(\"total no of bends\"))\n",
    "D=n*dia_of_main_bar\n",
    "\n",
    "a=int(q.value_a_and_b(d1,clear_cover,0))\n",
    "b=int(q.value_a_and_b(d1,clear_cover,dia_of_main_bar))\n",
    "\n",
    "eff_length_A=int(lenth_of_side_A-2*(clear_cover))\n",
    "\n",
    "bar_number_A=q.no_of_bar(eff_length_A,spacing)\n",
    "bar_number_B=q.no_of_bar(eff_length_A,spacing)\n",
    "\n",
    "total_length=[bar_number_A*q.cutting_length_ft(a,a,lenth_of_side_A,D)]+[bar_number_B*q.cutting_length_ft(b,b,lenth_of_side_B,D)]\n",
    "\n",
    "\n",
    "\n",
    "\n",
    "print(lenth_of_side_A)\n",
    "print(lenth_of_side_B,dia_of_main_bar)\n",
    "print(dia_of_sec_bar)\n",
    "print(spacing,clear_cover)\n",
    "print(d1)\n",
    "print(a)\n",
    "print(b)\n",
    "print(eff_length_A)\n",
    "\n",
    "print(total_length)\n",
    "\n",
    "q.no_of_bar(1300,200)"
   ]
  },
  {
   "cell_type": "code",
   "execution_count": 20,
   "metadata": {},
   "outputs": [
    {
     "name": "stdout",
     "output_type": "stream",
     "text": [
      "138\n"
     ]
    }
   ],
   "source": [
    "class cal:\n",
    "    def __init__(self) :\n",
    "        pass\n",
    "    def no_of_bar(self,d,sp):\n",
    "        bar=((d/sp)+1)\n",
    "        return int(bar)\n",
    "\n",
    "    def value_a_and_b(self,d1,clc,dia_main):\n",
    "        a=(d1-2*(clear_cover)-dia_main)\n",
    "        return int(a)\n",
    "\n",
    "\n",
    "    def bend_deduction(self,n,D):\n",
    "        bend_d=(n*D)\n",
    "        return (bend_d)\n",
    "\n",
    "    def cutting_length_ft(self,a,b,L,D):\n",
    "        cl=(a+b+L-D)\n",
    "        return (cl)\n",
    "\n",
    "\n",
    "\n",
    "q=cal()\n",
    "\n",
    "print(q.value_a_and_b(250,150,12))"
   ]
  }
 ],
 "metadata": {
  "kernelspec": {
   "display_name": "Python 3",
   "language": "python",
   "name": "python3"
  },
  "language_info": {
   "codemirror_mode": {
    "name": "ipython",
    "version": 3
   },
   "file_extension": ".py",
   "mimetype": "text/x-python",
   "name": "python",
   "nbconvert_exporter": "python",
   "pygments_lexer": "ipython3",
   "version": "3.10.0rc2 (tags/v3.10.0rc2:839d789, Sep  7 2021, 18:51:45) [MSC v.1929 64 bit (AMD64)]"
  },
  "orig_nbformat": 4,
  "vscode": {
   "interpreter": {
    "hash": "d1b277cc57ecdb0978b6c1510d43f7b5f68e4d49a2ccda038b6c0cbe3c5e50d4"
   }
  }
 },
 "nbformat": 4,
 "nbformat_minor": 2
}
